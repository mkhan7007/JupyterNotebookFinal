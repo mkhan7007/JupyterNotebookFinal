{
  "metadata": {
    "language_info": {
      "codemirror_mode": {
        "name": "python",
        "version": 3
      },
      "file_extension": ".py",
      "mimetype": "text/x-python",
      "name": "python",
      "nbconvert_exporter": "python",
      "pygments_lexer": "ipython3",
      "version": "3.8"
    },
    "kernelspec": {
      "name": "python",
      "display_name": "Python (Pyodide)",
      "language": "python"
    }
  },
  "nbformat_minor": 4,
  "nbformat": 4,
  "cells": [
    {
      "cell_type": "markdown",
      "source": "# Data Science Tools and Ecosystem ",
      "metadata": {}
    },
    {
      "cell_type": "markdown",
      "source": "## Introduction to Data Science",
      "metadata": {}
    },
    {
      "cell_type": "markdown",
      "source": "1. SQL\n2. Python\n3. R\n4. Java\n5. C\n6. C++\n7. Matlab\n8. Julia\n9. Lisp\n10. Scala\n11. Ruby \n12. Javascript",
      "metadata": {}
    },
    {
      "cell_type": "markdown",
      "source": "## List of Data Science Libraries",
      "metadata": {}
    },
    {
      "cell_type": "markdown",
      "source": "1. Python\n2. Pandas\n3. NumPy\n4. Matplotlib\n5. Seaborn\n6. Sci-kit learn\n7. Tensor Flow\n8. PyTorch\n9. Keras\n10. Vegas\n11. ggplot2",
      "metadata": {}
    },
    {
      "cell_type": "markdown",
      "source": "| Data Science Tools |\n|:------------------:|\n| fiddler | \n| jupyter notebook |\n| github |\n| IBM Watson Open Scale |\n| Cognos |\n| Apache |\n| Hadoop |\n| PixieDust |\n| Big ML |\n| Tableau | \n| Hue |\n| Tensorflow Lite |\n| MongoDB |\n| NodeRED |\n| Kubeflow |\n| Prometheus |\n| ModelDB |\n| IBM Fairness 360 | \n| IBM Adversarial 360 Toolbox |\n| Gitlab |\n| Bitbucket |\n| Kylo |\n| ODPi Egeria |\n| Datameer |\n",
      "metadata": {}
    },
    {
      "cell_type": "markdown",
      "source": "$E = mc^2$",
      "metadata": {}
    },
    {
      "cell_type": "markdown",
      "source": "$1 + 1 = 2$",
      "metadata": {}
    },
    {
      "cell_type": "markdown",
      "source": "$5 - 3 = 2$",
      "metadata": {}
    },
    {
      "cell_type": "code",
      "source": "1223 + 5674",
      "metadata": {
        "trusted": true
      },
      "execution_count": 3,
      "outputs": [
        {
          "execution_count": 3,
          "output_type": "execute_result",
          "data": {
            "text/plain": "6897"
          },
          "metadata": {}
        }
      ]
    },
    {
      "cell_type": "code",
      "source": "2*3",
      "metadata": {
        "trusted": true
      },
      "execution_count": 4,
      "outputs": [
        {
          "execution_count": 4,
          "output_type": "execute_result",
          "data": {
            "text/plain": "6"
          },
          "metadata": {}
        }
      ]
    },
    {
      "cell_type": "code",
      "source": "mins = 1440",
      "metadata": {
        "trusted": true
      },
      "execution_count": 5,
      "outputs": []
    },
    {
      "cell_type": "code",
      "source": "mins/60",
      "metadata": {
        "trusted": true
      },
      "execution_count": 6,
      "outputs": [
        {
          "execution_count": 6,
          "output_type": "execute_result",
          "data": {
            "text/plain": "24.0"
          },
          "metadata": {}
        }
      ]
    },
    {
      "cell_type": "code",
      "source": "print (\"convert minutes to hours\")",
      "metadata": {
        "trusted": true
      },
      "execution_count": 7,
      "outputs": [
        {
          "name": "stdout",
          "text": "convert minutes to hours\n",
          "output_type": "stream"
        }
      ]
    },
    {
      "cell_type": "markdown",
      "source": "## Objectives",
      "metadata": {}
    },
    {
      "cell_type": "markdown",
      "source": "1. Learn data science languages and tools\n2. Learn Python programming language\n3. Learn SQL Database language \n4. Learn R programming language\n5. Use data science skills to analyze data and create solutions in healthcare",
      "metadata": {}
    },
    {
      "cell_type": "markdown",
      "source": "### Author: Khan",
      "metadata": {}
    },
    {
      "cell_type": "code",
      "source": "",
      "metadata": {},
      "execution_count": null,
      "outputs": []
    }
  ]
}